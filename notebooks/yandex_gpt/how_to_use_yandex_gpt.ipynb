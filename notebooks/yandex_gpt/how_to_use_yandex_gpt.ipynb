{
 "cells": [
  {
   "metadata": {},
   "cell_type": "markdown",
   "source": "# Imports",
   "id": "3d9bc58017c47442"
  },
  {
   "cell_type": "code",
   "id": "initial_id",
   "metadata": {
    "collapsed": true,
    "ExecuteTime": {
     "end_time": "2024-06-01T16:05:07.573486Z",
     "start_time": "2024-06-01T16:05:07.496441Z"
    }
   },
   "source": [
    "import os\n",
    "\n",
    "if os.getcwd().split(\"/\")[-2] == \"notebooks\":\n",
    "    os.chdir(\"../../\")\n",
    "\n",
    "from yandex_gpt import YandexGPTConfigManagerForAPIKey, YandexGPT\n",
    "from pypdf import PdfReader\n",
    "from typing import List\n",
    "\n",
    "from dotenv import load_dotenv\n",
    "load_dotenv(\"env/.env.api_key\")"
   ],
   "outputs": [
    {
     "data": {
      "text/plain": [
       "True"
      ]
     },
     "execution_count": 4,
     "metadata": {},
     "output_type": "execute_result"
    }
   ],
   "execution_count": 4
  },
  {
   "metadata": {},
   "cell_type": "markdown",
   "source": "# Useful functions",
   "id": "456216b680edc5da"
  },
  {
   "metadata": {
    "ExecuteTime": {
     "end_time": "2024-06-01T16:05:08.232681Z",
     "start_time": "2024-06-01T16:05:08.223171Z"
    }
   },
   "cell_type": "code",
   "source": [
    "def find_elements_in_text(elements_list: List[str], text: str) -> List[str]:\n",
    "    lower_text = text.lower()\n",
    "\n",
    "    elements_count = {element.lower(): lower_text.count(element.lower()) for element in elements_list}\n",
    "    any_element_present_more_than_once = max(count > 1 for count in elements_count.values())\n",
    "    all_elements_present = all(count > 0 for count in elements_count.values())\n",
    "    elements_mapping = {element.lower(): element for element in elements_list}\n",
    "\n",
    "    if any_element_present_more_than_once or all_elements_present:\n",
    "        filtered_elements = [elements_mapping[element] for element, count in elements_count.items() if count >= 2]\n",
    "    else:\n",
    "        filtered_elements = [elements_mapping[element] for element, count in elements_count.items() if count > 0]\n",
    "\n",
    "    return filtered_elements\n",
    "\n",
    "\n",
    "def get_resume_text(file_path: str) -> str:\n",
    "    return \"\\n\".join([page.extract_text() for page in PdfReader(file_path).pages])\n",
    "\n",
    "\n",
    "def split_text_to_batches(text: str, batch_size: int) -> List[str]:\n",
    "    return [text[i:i + batch_size] for i in range(0, len(text), batch_size)]\n",
    "\n",
    "\n",
    "def split_list_to_batches(elements_list: List[str], batch_size: int) -> List[List[str]]:\n",
    "    return [elements_list[i:i + batch_size] for i in range(0, len(elements_list), batch_size)]\n",
    "\n",
    "\n",
    "def filter_special_simbols(text: str) -> str:\n",
    "    return text.replace(\"\\n\", \" \").replace(\"\\xa0\", \" \")"
   ],
   "id": "2d096a9cf83a18e8",
   "outputs": [],
   "execution_count": 5
  },
  {
   "metadata": {},
   "cell_type": "markdown",
   "source": "# Using Yandex GPT",
   "id": "2a45ca4c44d2f690"
  },
  {
   "metadata": {
    "ExecuteTime": {
     "end_time": "2024-06-01T16:05:58.691114Z",
     "start_time": "2024-06-01T16:05:56.716478Z"
    }
   },
   "cell_type": "code",
   "source": [
    "yandex_gpt = YandexGPT(config_manager=YandexGPTConfigManagerForAPIKey())\n",
    "\n",
    "await yandex_gpt.get_async_completion(messages=[{\"role\": \"user\", \"text\": \"Hello!\"}], timeout=100)"
   ],
   "id": "a738e4b6deb1cb3f",
   "outputs": [
    {
     "data": {
      "text/plain": [
       "'Hello! How are you?'"
      ]
     },
     "execution_count": 6,
     "metadata": {},
     "output_type": "execute_result"
    }
   ],
   "execution_count": 6
  }
 ],
 "metadata": {
  "kernelspec": {
   "display_name": "Python 3",
   "language": "python",
   "name": "python3"
  },
  "language_info": {
   "codemirror_mode": {
    "name": "ipython",
    "version": 2
   },
   "file_extension": ".py",
   "mimetype": "text/x-python",
   "name": "python",
   "nbconvert_exporter": "python",
   "pygments_lexer": "ipython2",
   "version": "2.7.6"
  }
 },
 "nbformat": 4,
 "nbformat_minor": 5
}
