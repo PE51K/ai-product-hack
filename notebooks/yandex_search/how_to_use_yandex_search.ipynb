{
 "cells": [
  {
   "metadata": {
    "ExecuteTime": {
     "end_time": "2024-06-04T12:02:52.591454Z",
     "start_time": "2024-06-04T12:02:52.363872Z"
    }
   },
   "cell_type": "code",
   "source": [
    "import os\n",
    "\n",
    "if os.getcwd().split(\"/\")[-2] == \"notebooks\":\n",
    "    os.chdir(\"../../\")\n",
    "\n",
    "import os\n",
    "import httpx\n",
    "import xml.etree.ElementTree as ET\n",
    "from typing import TypedDict, Optional\n",
    "\n",
    "from dotenv import load_dotenv\n",
    "load_dotenv(\"env/.env.yandex_search\")"
   ],
   "id": "b8554c6d4c5febb1",
   "outputs": [
    {
     "data": {
      "text/plain": [
       "True"
      ]
     },
     "execution_count": 1,
     "metadata": {},
     "output_type": "execute_result"
    }
   ],
   "execution_count": 1
  },
  {
   "cell_type": "code",
   "id": "initial_id",
   "metadata": {
    "collapsed": true,
    "ExecuteTime": {
     "end_time": "2024-06-04T12:22:31.643269Z",
     "start_time": "2024-06-04T12:22:31.618893Z"
    }
   },
   "source": [
    "async def fetch_search_results(base_link, folder_id, api_key, query):\n",
    "    url = f\"{base_link}?folderid={folder_id}&apikey={api_key}&query={query}\"\n",
    "    async with httpx.AsyncClient() as client:\n",
    "        response = await client.get(url)\n",
    "        response.raise_for_status()\n",
    "        return response.text\n",
    "\n",
    "def parse_xml_response(xml_data):\n",
    "    root = ET.fromstring(xml_data)\n",
    "    results = []\n",
    "    for group in root.findall(\".//group\"):\n",
    "        doc = group.find(\".//doc\")\n",
    "        if doc is not None:\n",
    "            url = doc.find(\".//url\").text if doc.find(\".//url\") is not None else \"No URL\"\n",
    "            domain = doc.find(\".//domain\").text if doc.find(\".//domain\") is not None else \"No domain\"\n",
    "            title_element = doc.find(\".//title\")\n",
    "            title = \"\".join(title_element.itertext()).strip() if title_element is not None else \"No title\"\n",
    "            results.append({\"url\": url, \"domain\": domain, \"title\": title})\n",
    "    return results\n",
    "\n",
    "class ProductInfo(TypedDict):\n",
    "    brand_name: str\n",
    "    model_name: str\n",
    "    part_number: Optional[str]"
   ],
   "outputs": [],
   "execution_count": 19
  },
  {
   "metadata": {
    "ExecuteTime": {
     "end_time": "2024-06-04T12:40:19.937582Z",
     "start_time": "2024-06-04T12:40:19.916876Z"
    }
   },
   "cell_type": "code",
   "source": [
    "product_info = ProductInfo(brand_name=\"ACER\", model_name=\"CC715-91P-X7V8\", part_number=\"NX.C5FER.001\")\n",
    "\n",
    "product_info"
   ],
   "id": "e8282e7a9b7efe7a",
   "outputs": [
    {
     "data": {
      "text/plain": [
       "{'brand_name': 'ACER',\n",
       " 'model_name': 'CC715-91P-X7V8',\n",
       " 'part_number': 'NX.C5FER.001'}"
      ]
     },
     "execution_count": 26,
     "metadata": {},
     "output_type": "execute_result"
    }
   ],
   "execution_count": 26
  },
  {
   "metadata": {
    "ExecuteTime": {
     "end_time": "2024-06-04T12:42:22.907785Z",
     "start_time": "2024-06-04T12:42:22.116236Z"
    }
   },
   "cell_type": "code",
   "source": [
    "base_link = os.getenv(\"YANDEX_SEARCH_BASE_LINK\")\n",
    "folder_id = os.getenv(\"YANDEX_SEARCH_FOLDER_ID\")\n",
    "api_key = os.getenv(\"YANDEX_SEARCH_API_KEY\")\n",
    "\n",
    "query = f\"{product_info['brand_name']} {product_info['model_name']} {product_info['part_number']}\"\n",
    "response = await fetch_search_results(base_link, folder_id, api_key, query)\n",
    "parse_xml_response(response)"
   ],
   "id": "351b1af4770d86a4",
   "outputs": [
    {
     "data": {
      "text/plain": [
       "[{'url': 'https://www.acer.com/ru-ru/conceptd/laptops/conceptd-7-ezel/pdp/NX.C5FER.001',\n",
       "  'domain': 'www.acer.com',\n",
       "  'title': 'ConceptD 7 Ezel - CC715-91P-X7V8 Технические... | Acer Россия'},\n",
       " {'url': 'https://ac-russia.com.ru/noutbuk-conceptd-7-ezel-pro-cc715-91p-x7v8-nxc5fer001/',\n",
       "  'domain': 'ac-russia.com.ru',\n",
       "  'title': 'ACER Ноутбук ConceptD 7 Ezel Pro... | Купить ac-russia.com.ru'},\n",
       " {'url': 'https://market.yandex.ru/product--noutbuk-acer-conceptd-7-ezel-pro-cc715-91p-x7v8-3840x2160-intel-xeon-2-4-ggts-ram-32-gb-ssd-2-tb-quadro-rtx-5000-win10-pro/668440018?sku=100955322731',\n",
       "  'domain': 'market.yandex.ru',\n",
       "  'title': '15.6\" Ноутбук Acer ConceptD 7 Ezel Pro... | Яндекс Маркет'},\n",
       " {'url': 'https://www.citilink.ru/product/noutbuk-acer-conceptd-7-ezel-cc715-91p-x7v8-i7-10885m-32gb-ssd1tb-1tb-1383001/properties/',\n",
       "  'domain': 'www.citilink.ru',\n",
       "  'title': 'Характеристики Ноутбук игровой Acer ConceptD 7 Ezel...'},\n",
       " {'url': 'https://www.citilink.ru/product/noutbuk-acer-conceptd-7-ezel-cc715-91p-x7v8-i7-10885m-32gb-ssd1tb-1tb-1383001/',\n",
       "  'domain': 'www.citilink.ru',\n",
       "  'title': 'Ноутбук игровой Acer ConceptD 7 Ezel... | Ситилинк'},\n",
       " {'url': 'https://www.ozon.ru/product/acer-conceptd-7-ezel-cc715-91p-x7v8-nx-c5fer-001-igrovoy-noutbuk-15-6-intel-xeon-w-10885m-ram-32-1211103456/',\n",
       "  'domain': 'www.ozon.ru',\n",
       "  'title': 'Игровой ноутбук Acer ConceptD 7 Ezel...'},\n",
       " {'url': 'https://komp.1k.by/mobile-notebooks/acer/Acer_ConceptD_7_Ezel_Pro_CC715_91P_X7V8_NXC5FER001-4296785.html',\n",
       "  'domain': 'komp.1k.by',\n",
       "  'title': 'Acer ConceptD 7 Ezel Pro CC715-91P-X7V8 (NX.C5FER.001) купить...'},\n",
       " {'url': 'https://megamarket.ru/catalog/details/noutbuk-transformer-acer-conceptd-7-ezel-cc715-91p-x7v8-white-nxc5fer001-100027691710/spec/',\n",
       "  'domain': 'megamarket.ru',\n",
       "  'title': 'Ноутбук-трансформер Acer ConceptD 7 Ezel...'},\n",
       " {'url': 'https://www.technopark.ru/noutbuk-acer-conceptd-7-ezel-pro-cc715-91p-x7v8-white/',\n",
       "  'domain': 'www.technopark.ru',\n",
       "  'title': 'Купить Ноутбук Acer ConceptD 7 Ezel Pro CC715-91P-X7V8 White...'},\n",
       " {'url': 'https://beltexno.by/catalog/noutbuk-2-v-1-acer-conceptd-7-ezel-pro-cc715-91p-x7v8-nx-c5fep-001',\n",
       "  'domain': 'beltexno.by',\n",
       "  'title': 'Купить Ноутбук 2-в-1 Acer ConceptD 7 Ezel Pro CC715-91P-X7V8'},\n",
       " {'url': 'https://www.mvideo.ru/products/noutbuk-dlya-tvorchestva-acer-conceptd-7-ezel-cc715-91p-x7v8-nxc5fer001-30057311',\n",
       "  'domain': 'www.mvideo.ru',\n",
       "  'title': 'Купить Ноутбук для творчества Acer ConceptD 7 Ezel...'},\n",
       " {'url': 'https://www.dns-shop.ru/product/61ff6a1ed6033332/156-noutbuk-acer-conceptd-7-ezel-cc715-91p-x7v8uhdled-xeon-w-10885m327682tbnv-quadro-rtx5000-16gbwin10prowhite/',\n",
       "  'domain': 'www.dns-shop.ru',\n",
       "  'title': 'Купить 15.6\" Ноутбук Acer ConceptD 7 Ezel...'},\n",
       " {'url': 'https://shop.by/noutbuki/acer_conceptd_7_ezel_pro_cc715_91p_x7v8_nxc5fer001/',\n",
       "  'domain': 'shop.by',\n",
       "  'title': 'Ноутбук Acer ConceptD 7 Ezel Pro CC715-91P-X7V8 NX.C5FER.001...'},\n",
       " {'url': 'https://www.xcom-shop.ru/acer_conceptd_7_ezel_cc715-91p-x7v8_805287.html',\n",
       "  'domain': 'www.xcom-shop.ru',\n",
       "  'title': 'Купить ноутбук Acer ConceptD 7 Ezel...'},\n",
       " {'url': 'https://www.wildberries.ru/brands/acer/noutbuki',\n",
       "  'domain': 'www.wildberries.ru',\n",
       "  'title': 'Acer ноутбуки в интернет-магазине Wildberries'}]"
      ]
     },
     "execution_count": 27,
     "metadata": {},
     "output_type": "execute_result"
    }
   ],
   "execution_count": 27
  }
 ],
 "metadata": {
  "kernelspec": {
   "display_name": "Python 3",
   "language": "python",
   "name": "python3"
  },
  "language_info": {
   "codemirror_mode": {
    "name": "ipython",
    "version": 2
   },
   "file_extension": ".py",
   "mimetype": "text/x-python",
   "name": "python",
   "nbconvert_exporter": "python",
   "pygments_lexer": "ipython2",
   "version": "2.7.6"
  }
 },
 "nbformat": 4,
 "nbformat_minor": 5
}
